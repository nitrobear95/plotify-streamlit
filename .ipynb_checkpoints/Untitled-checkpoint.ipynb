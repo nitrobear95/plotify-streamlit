{
 "cells": [
  {
   "cell_type": "code",
   "execution_count": 4,
   "id": "7323e4ca-ac3a-4dde-97f5-75fc42a7412b",
   "metadata": {},
   "outputs": [
    {
     "name": "stdout",
     "output_type": "stream",
     "text": [
      "<html>\n",
      "<head><title>504 Gateway Time-out</title></head>\n",
      "<body>\n",
      "<center><h1>504 Gateway Time-out</h1></center>\n",
      "</body>\n",
      "</html>\n",
      "\n"
     ]
    }
   ],
   "source": [
    "import requests\n",
    "\n",
    "url = \"https://marvelstefan-skliarovv1.p.rapidapi.com/getSeriesByCharacter\"\n",
    "\n",
    "payload = \"privateKey=%3CREQUIRED%3E&titleStartsWith=avengers&characterId=%3CREQUIRED%3E&publicKey=%3CREQUIRED%3E\"\n",
    "headers = {\n",
    "\t\"content-type\": \"application/x-www-form-urlencoded\",\n",
    "\t\"X-RapidAPI-Key\": \"1688bcf98dmsh0dde3eda4f0374ap15d984jsnbb0c2deccb48\",\n",
    "\t\"X-RapidAPI-Host\": \"Marvelstefan-skliarovV1.p.rapidapi.com\"\n",
    "}\n",
    "\n",
    "response = requests.request(\"POST\", url, data=payload, headers=headers)\n",
    "\n",
    "print(response.text)"
   ]
  },
  {
   "cell_type": "code",
   "execution_count": 3,
   "id": "43be8488-0fe6-40ca-bd0b-d8dc05a32941",
   "metadata": {},
   "outputs": [
    {
     "name": "stdout",
     "output_type": "stream",
     "text": [
      "{\"id\":620,\"name\":\"Spider-Man\",\"slug\":\"620-spider-man\",\"powerstats\":{\"intelligence\":90,\"strength\":55,\"speed\":67,\"durability\":75,\"power\":74,\"combat\":85},\"appearance\":{\"gender\":\"Male\",\"race\":\"Human\",\"height\":[\"5'10\",\"178 cm\"],\"weight\":[\"165 lb\",\"74 kg\"],\"eyeColor\":\"Hazel\",\"hairColor\":\"Brown\"},\"biography\":{\"fullName\":\"Peter Parker\",\"alterEgos\":\"No alter egos found.\",\"aliases\":[\"Spiderman\",\"Bag-Man\",\"Black Marvel\",\"Captain Universe\",\"Dusk\",\"Green Hood\",\"Hornet\",\"Mad Dog 336\",\"Peter Palmer\",\"Prodigy\",\"Ricochet\",\"Scarlet Spider\",\"Spider-Boy\",\"Spider-Hulk\",\"Spider-Morphosis\"],\"placeOfBirth\":\"New York, New York\",\"firstAppearance\":\"Amazing Fantasy #15\",\"publisher\":\"Marvel Comics\",\"alignment\":\"good\"},\"work\":{\"occupation\":\"Freelance photographer, teacher\",\"base\":\"New York, New York\"},\"connections\":{\"groupAffiliation\":\"Member of the Avengers, formerly member of Outlaws, alternate Fantastic Four\",\"relatives\":\"Richard Parker (father, deceased), Mary Parker(mother, deceased), Benjamin Parker (uncle, deceased), May Parker (aunt), Mary Jane Watson-Parker (wife), May Parker (daughter, allegedly deceased)\"},\"images\":{\"xs\":\"https://cdn.rawgit.com/akabab/superhero-api/0.2.0/api/images/xs/620-spider-man.jpg\",\"sm\":\"https://cdn.rawgit.com/akabab/superhero-api/0.2.0/api/images/sm/620-spider-man.jpg\",\"md\":\"https://cdn.rawgit.com/akabab/superhero-api/0.2.0/api/images/md/620-spider-man.jpg\",\"lg\":\"https://cdn.rawgit.com/akabab/superhero-api/0.2.0/api/images/lg/620-spider-man.jpg\"}}\n"
     ]
    }
   ],
   "source": [
    "import requests\n",
    "\n",
    "url = \"https://superhero-search.p.rapidapi.com/api/\"\n",
    "\n",
    "querystring = {\"hero\":\"Spiderman\"}\n",
    "\n",
    "headers = {\n",
    "\t\"X-RapidAPI-Key\": \"1688bcf98dmsh0dde3eda4f0374ap15d984jsnbb0c2deccb48\",\n",
    "\t\"X-RapidAPI-Host\": \"superhero-search.p.rapidapi.com\"\n",
    "}\n",
    "\n",
    "response = requests.request(\"GET\", url, headers=headers, params=querystring)\n",
    "\n",
    "print(response.text)"
   ]
  },
  {
   "cell_type": "code",
   "execution_count": 5,
   "id": "e59af7cf-f424-4cac-9bc5-8ee53f41ddc4",
   "metadata": {},
   "outputs": [
    {
     "name": "stdout",
     "output_type": "stream",
     "text": [
      "{\"status\":\"success\",\"message\":\"\",\"mode\":\"standard\",\"text\":\"RIMEDIA will rewrite your text. Start by writing or pastting something here and then press the Paraphrase button.\",\"lang\":\"en\",\"paraphrase_capital\":\"true\",\"protected\":[\"YOUR\",\"something\"],\"result\":\"RIMEDIA will rewrite <del>your text. Start <\\/del><ins>the text <pro>YOUR<\\/pro>. Begin <\\/ins>by <del>writing <\\/del><ins>typing <\\/ins>or <del>pastting <\\/del><ins>pasting <\\/ins><pro>something<\\/pro> <del>here <\\/del><ins>here, <\\/ins>and then <del>press <\\/del><ins>hit <\\/ins>the Paraphrase button.\",\"count_characters\":113,\"count_words\":18,\"count_changed_words\":5,\"result_html_old\":\"RIMEDIA will rewrite <del>your text. Start <\\/del>by <del>writing <\\/del>or <del>pastting <\\/del><pro>something<\\/pro> <del>here <\\/del>and then <del>press <\\/del>the Paraphrase button.\",\"result_html_new\":\"RIMEDIA will rewrite <ins>the text <pro>YOUR<\\/pro>. Begin <\\/ins>by <ins>typing <\\/ins>or <ins>pasting <\\/ins><pro>something<\\/pro> <ins>here, <\\/ins>and then <ins>hit <\\/ins>the Paraphrase button.\",\"result_text_old\":\"RIMEDIA will rewrite your text. Start by writing or pastting something here and then press the Paraphrase button.\",\"result_text_new\":\"RIMEDIA will rewrite the text YOUR. Begin by typing or pasting something here, and then hit the Paraphrase button.\"}\n"
     ]
    }
   ],
   "source": [
    "import requests\n",
    "\n",
    "url = \"https://rimedia-paraphraser.p.rapidapi.com/api_paraphrase.php\"\n",
    "\n",
    "payload = \"text=RIMEDIA%20will%20rewrite%20your%20text.%20Start%20by%20writing%20or%20pastting%20something%20here%20and%20then%20press%20the%20Paraphrase%20button.&lang=en&paraphrase_capital=true&protected=YOUR%3Bsomething\"\n",
    "headers = {\n",
    "\t\"content-type\": \"application/x-www-form-urlencoded\",\n",
    "\t\"X-RapidAPI-Key\": \"1688bcf98dmsh0dde3eda4f0374ap15d984jsnbb0c2deccb48\",\n",
    "\t\"X-RapidAPI-Host\": \"rimedia-paraphraser.p.rapidapi.com\"\n",
    "}\n",
    "\n",
    "response = requests.request(\"POST\", url, data=payload, headers=headers)\n",
    "\n",
    "print(response.text)"
   ]
  },
  {
   "cell_type": "code",
   "execution_count": 6,
   "id": "b8b516de-cf2f-45cc-b500-9d05b0066517",
   "metadata": {},
   "outputs": [
    {
     "name": "stdout",
     "output_type": "stream",
     "text": [
      "{\"data\":{\"detections\":[[{\"isReliable\":false,\"language\":\"en\",\"confidence\":1}]]}}\n"
     ]
    }
   ],
   "source": [
    "import requests\n",
    "\n",
    "url = \"https://google-translate1.p.rapidapi.com/language/translate/v2/detect\"\n",
    "\n",
    "payload = \"q=this is the best\"\n",
    "headers = {\n",
    "\t\"content-type\": \"application/x-www-form-urlencoded\",\n",
    "\t\"Accept-Encoding\": \"application/gzip\",\n",
    "\t\"X-RapidAPI-Key\": \"1688bcf98dmsh0dde3eda4f0374ap15d984jsnbb0c2deccb48\",\n",
    "\t\"X-RapidAPI-Host\": \"google-translate1.p.rapidapi.com\"\n",
    "}\n",
    "\n",
    "response = requests.request(\"POST\", url, data=payload, headers=headers)\n",
    "\n",
    "print(response.text)"
   ]
  },
  {
   "cell_type": "code",
   "execution_count": null,
   "id": "069606de-812b-4905-bf2a-08e9825737e1",
   "metadata": {},
   "outputs": [],
   "source": []
  }
 ],
 "metadata": {
  "kernelspec": {
   "display_name": "Python 3 (ipykernel)",
   "language": "python",
   "name": "python3"
  },
  "language_info": {
   "codemirror_mode": {
    "name": "ipython",
    "version": 3
   },
   "file_extension": ".py",
   "mimetype": "text/x-python",
   "name": "python",
   "nbconvert_exporter": "python",
   "pygments_lexer": "ipython3",
   "version": "3.10.6"
  }
 },
 "nbformat": 4,
 "nbformat_minor": 5
}
