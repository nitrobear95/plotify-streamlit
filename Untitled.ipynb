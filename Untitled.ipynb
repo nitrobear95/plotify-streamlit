{
 "cells": [
  {
   "cell_type": "code",
   "execution_count": 4,
   "id": "7323e4ca-ac3a-4dde-97f5-75fc42a7412b",
   "metadata": {},
   "outputs": [
    {
     "name": "stdout",
     "output_type": "stream",
     "text": [
      "<html>\n",
      "<head><title>504 Gateway Time-out</title></head>\n",
      "<body>\n",
      "<center><h1>504 Gateway Time-out</h1></center>\n",
      "</body>\n",
      "</html>\n",
      "\n"
     ]
    }
   ],
   "source": [
    "import requests\n",
    "\n",
    "url = \"https://marvelstefan-skliarovv1.p.rapidapi.com/getSeriesByCharacter\"\n",
    "\n",
    "payload = \"privateKey=%3CREQUIRED%3E&titleStartsWith=avengers&characterId=%3CREQUIRED%3E&publicKey=%3CREQUIRED%3E\"\n",
    "headers = {\n",
    "\t\"content-type\": \"application/x-www-form-urlencoded\",\n",
    "\t\"X-RapidAPI-Key\": \"1688bcf98dmsh0dde3eda4f0374ap15d984jsnbb0c2deccb48\",\n",
    "\t\"X-RapidAPI-Host\": \"Marvelstefan-skliarovV1.p.rapidapi.com\"\n",
    "}\n",
    "\n",
    "response = requests.request(\"POST\", url, data=payload, headers=headers)\n",
    "\n",
    "print(response.text)"
   ]
  },
  {
   "cell_type": "code",
   "execution_count": 3,
   "id": "43be8488-0fe6-40ca-bd0b-d8dc05a32941",
   "metadata": {},
   "outputs": [
    {
     "name": "stdout",
     "output_type": "stream",
     "text": [
      "{\"id\":620,\"name\":\"Spider-Man\",\"slug\":\"620-spider-man\",\"powerstats\":{\"intelligence\":90,\"strength\":55,\"speed\":67,\"durability\":75,\"power\":74,\"combat\":85},\"appearance\":{\"gender\":\"Male\",\"race\":\"Human\",\"height\":[\"5'10\",\"178 cm\"],\"weight\":[\"165 lb\",\"74 kg\"],\"eyeColor\":\"Hazel\",\"hairColor\":\"Brown\"},\"biography\":{\"fullName\":\"Peter Parker\",\"alterEgos\":\"No alter egos found.\",\"aliases\":[\"Spiderman\",\"Bag-Man\",\"Black Marvel\",\"Captain Universe\",\"Dusk\",\"Green Hood\",\"Hornet\",\"Mad Dog 336\",\"Peter Palmer\",\"Prodigy\",\"Ricochet\",\"Scarlet Spider\",\"Spider-Boy\",\"Spider-Hulk\",\"Spider-Morphosis\"],\"placeOfBirth\":\"New York, New York\",\"firstAppearance\":\"Amazing Fantasy #15\",\"publisher\":\"Marvel Comics\",\"alignment\":\"good\"},\"work\":{\"occupation\":\"Freelance photographer, teacher\",\"base\":\"New York, New York\"},\"connections\":{\"groupAffiliation\":\"Member of the Avengers, formerly member of Outlaws, alternate Fantastic Four\",\"relatives\":\"Richard Parker (father, deceased), Mary Parker(mother, deceased), Benjamin Parker (uncle, deceased), May Parker (aunt), Mary Jane Watson-Parker (wife), May Parker (daughter, allegedly deceased)\"},\"images\":{\"xs\":\"https://cdn.rawgit.com/akabab/superhero-api/0.2.0/api/images/xs/620-spider-man.jpg\",\"sm\":\"https://cdn.rawgit.com/akabab/superhero-api/0.2.0/api/images/sm/620-spider-man.jpg\",\"md\":\"https://cdn.rawgit.com/akabab/superhero-api/0.2.0/api/images/md/620-spider-man.jpg\",\"lg\":\"https://cdn.rawgit.com/akabab/superhero-api/0.2.0/api/images/lg/620-spider-man.jpg\"}}\n"
     ]
    }
   ],
   "source": [
    "import requests\n",
    "\n",
    "url = \"https://superhero-search.p.rapidapi.com/api/\"\n",
    "\n",
    "querystring = {\"hero\":\"Spiderman\"}\n",
    "\n",
    "headers = {\n",
    "\t\"X-RapidAPI-Key\": \"1688bcf98dmsh0dde3eda4f0374ap15d984jsnbb0c2deccb48\",\n",
    "\t\"X-RapidAPI-Host\": \"superhero-search.p.rapidapi.com\"\n",
    "}\n",
    "\n",
    "response = requests.request(\"GET\", url, headers=headers, params=querystring)\n",
    "\n",
    "print(response.text)"
   ]
  },
  {
   "cell_type": "code",
   "execution_count": 5,
   "id": "e59af7cf-f424-4cac-9bc5-8ee53f41ddc4",
   "metadata": {},
   "outputs": [
    {
     "name": "stdout",
     "output_type": "stream",
     "text": [
      "{\"status\":\"success\",\"message\":\"\",\"mode\":\"standard\",\"text\":\"RIMEDIA will rewrite your text. Start by writing or pastting something here and then press the Paraphrase button.\",\"lang\":\"en\",\"paraphrase_capital\":\"true\",\"protected\":[\"YOUR\",\"something\"],\"result\":\"RIMEDIA will rewrite <del>your text. Start <\\/del><ins>the text <pro>YOUR<\\/pro>. Begin <\\/ins>by <del>writing <\\/del><ins>typing <\\/ins>or <del>pastting <\\/del><ins>pasting <\\/ins><pro>something<\\/pro> <del>here <\\/del><ins>here, <\\/ins>and then <del>press <\\/del><ins>hit <\\/ins>the Paraphrase button.\",\"count_characters\":113,\"count_words\":18,\"count_changed_words\":5,\"result_html_old\":\"RIMEDIA will rewrite <del>your text. Start <\\/del>by <del>writing <\\/del>or <del>pastting <\\/del><pro>something<\\/pro> <del>here <\\/del>and then <del>press <\\/del>the Paraphrase button.\",\"result_html_new\":\"RIMEDIA will rewrite <ins>the text <pro>YOUR<\\/pro>. Begin <\\/ins>by <ins>typing <\\/ins>or <ins>pasting <\\/ins><pro>something<\\/pro> <ins>here, <\\/ins>and then <ins>hit <\\/ins>the Paraphrase button.\",\"result_text_old\":\"RIMEDIA will rewrite your text. Start by writing or pastting something here and then press the Paraphrase button.\",\"result_text_new\":\"RIMEDIA will rewrite the text YOUR. Begin by typing or pasting something here, and then hit the Paraphrase button.\"}\n"
     ]
    }
   ],
   "source": [
    "import requests\n",
    "\n",
    "url = \"https://rimedia-paraphraser.p.rapidapi.com/api_paraphrase.php\"\n",
    "\n",
    "payload = \"text=RIMEDIA%20will%20rewrite%20your%20text.%20Start%20by%20writing%20or%20pastting%20something%20here%20and%20then%20press%20the%20Paraphrase%20button.&lang=en&paraphrase_capital=true&protected=YOUR%3Bsomething\"\n",
    "headers = {\n",
    "\t\"content-type\": \"application/x-www-form-urlencoded\",\n",
    "\t\"X-RapidAPI-Key\": \"1688bcf98dmsh0dde3eda4f0374ap15d984jsnbb0c2deccb48\",\n",
    "\t\"X-RapidAPI-Host\": \"rimedia-paraphraser.p.rapidapi.com\"\n",
    "}\n",
    "\n",
    "response = requests.request(\"POST\", url, data=payload, headers=headers)\n",
    "\n",
    "print(response.text)"
   ]
  },
  {
   "cell_type": "code",
   "execution_count": 9,
   "id": "b8b516de-cf2f-45cc-b500-9d05b0066517",
   "metadata": {},
   "outputs": [
    {
     "name": "stdout",
     "output_type": "stream",
     "text": [
      "{\"d\":[{\"i\":{\"height\":632,\"imageUrl\":\"https://m.media-amazon.com/images/M/MV5BMDc0ZGZmYzMtYTg3YS00MjNhLWI0MTItNTJiNDE5Njc5Y2ZkXkEyXkFqcGdeQXVyMTk2ODc0MjY@._V1_.jpg\",\"width\":426},\"id\":\"/best-of\",\"l\":\"Best of 2022\",\"s\":\"Discover this year’s fan-favorite movies, TV series, stars, and more.\"},{\"i\":{\"height\":1500,\"imageUrl\":\"https://m.media-amazon.com/images/M/MV5BYTRiNDQwYzAtMzVlZS00NTI5LWJjYjUtMzkwNTUzMWMxZTllXkEyXkFqcGdeQXVyNDIzMzcwNjc@._V1_.jpg\",\"width\":1102},\"id\":\"tt0944947\",\"l\":\"Game of Thrones\",\"q\":\"TV series\",\"qid\":\"tvSeries\",\"rank\":31,\"s\":\"Emilia Clarke, Peter Dinklage\",\"y\":2011,\"yr\":\"2011-2019\"},{\"i\":{\"height\":1200,\"imageUrl\":\"https://m.media-amazon.com/images/M/MV5BNTg1MjEyNWYtNzJkZi00ZTM5LThlNWMtMmNiNmE3N2QxNTllXkEyXkFqcGdeQXVyNTE1NjY5Mg@@._V1_.jpg\",\"width\":782},\"id\":\"tt13380510\",\"l\":\"Game of Thrones\",\"q\":\"video\",\"qid\":\"video\",\"rank\":14382,\"s\":\"Roy Dotrice\",\"y\":2003},{\"i\":{\"height\":750,\"imageUrl\":\"https://m.media-amazon.com/images/M/MV5BODg5NDJhMjYtMTYyYi00NzAwLTliNmYtNGZhMjQ4ZjNkMjgyXkEyXkFqcGdeQXVyNTA3MTU2MjE@._V1_.jpg\",\"width\":1334},\"id\":\"tt6857128\",\"l\":\"Unaired Game of Thrones Prequel Pilot\",\"q\":\"TV movie\",\"qid\":\"tvMovie\",\"rank\":15165,\"s\":\"Denise Gough, Naomi Watts\",\"y\":2019},{\"i\":{\"height\":1200,\"imageUrl\":\"https://m.media-amazon.com/images/M/MV5BZDdlMzQzNDQtNTAxMS00NTMyLTgxYTAtYzQ0OGI1YzZhY2Y3XkEyXkFqcGdeQXVyMTkxNjUyNQ@@._V1_.jpg\",\"width\":810},\"id\":\"tt10090796\",\"l\":\"Game of Thrones: The Last Watch\",\"q\":\"TV movie\",\"qid\":\"tvMovie\",\"rank\":26292,\"s\":\"Kevin Alexander, Alfie Allen\",\"y\":2019},{\"id\":\"tt21073266\",\"l\":\"Untitled Jon Snow/Game of Thrones Spinoff\",\"q\":\"TV series\",\"qid\":\"tvSeries\",\"rank\":16243,\"s\":\"\"},{\"i\":{\"height\":1500,\"imageUrl\":\"https://m.media-amazon.com/images/M/MV5BZjBiOGIyY2YtOTA3OC00YzY1LThkYjktMGRkYTNhNTExY2I2XkEyXkFqcGdeQXVyMTEyMjM2NDc2._V1_.jpg\",\"width\":1013},\"id\":\"tt11198330\",\"l\":\"House of the Dragon\",\"q\":\"TV series\",\"qid\":\"tvSeries\",\"rank\":42,\"s\":\"Rhys Ifans, Matt Smith\",\"y\":2022},{\"i\":{\"height\":840,\"imageUrl\":\"https://m.media-amazon.com/images/M/MV5BMGYzNDJiOTgtN2Y1OC00NmM2LTk3MTMtZmFhNmJlMzQzNGNhXkEyXkFqcGdeQXVyNDgyODgxNjE@._V1_.jpg\",\"width\":600},\"id\":\"tt7937220\",\"l\":\"Game of Thrones Conquest & Rebellion: An Animated History of the Seven Kingdoms\",\"q\":\"video\",\"qid\":\"video\",\"rank\":24154,\"s\":\"Pilou Asbæk, Nikolaj Coster-Waldau\",\"y\":2017}],\"q\":\"game%20of%20thr\",\"v\":1}\n"
     ]
    }
   ],
   "source": [
    "import requests\n",
    "\n",
    "url = \"https://imdb8.p.rapidapi.com/auto-complete\"\n",
    "\n",
    "querystring = {\"q\":\"game of thr\"}\n",
    "\n",
    "headers = {\n",
    "\t\"X-RapidAPI-Key\": \"1688bcf98dmsh0dde3eda4f0374ap15d984jsnbb0c2deccb48\",\n",
    "\t\"X-RapidAPI-Host\": \"imdb8.p.rapidapi.com\"\n",
    "}\n",
    "\n",
    "response = requests.request(\"GET\", url, headers=headers, params=querystring)\n",
    "\n",
    "print(response.text)"
   ]
  },
  {
   "cell_type": "code",
   "execution_count": 18,
   "id": "069606de-812b-4905-bf2a-08e9825737e1",
   "metadata": {},
   "outputs": [
    {
     "name": "stdout",
     "output_type": "stream",
     "text": [
      "{\"message\":\"This endpoint is disabled for your subscription\"}\n"
     ]
    }
   ],
   "source": [
    "import requests\n",
    "\n",
    "url = \"https://dad-jokes.p.rapidapi.com/joke/search\"\n",
    "\n",
    "querystring = {\"term\":\"cow\"}\n",
    "\n",
    "headers = {\n",
    "\t\"X-RapidAPI-Key\": \"1688bcf98dmsh0dde3eda4f0374ap15d984jsnbb0c2deccb48\",\n",
    "\t\"X-RapidAPI-Host\": \"dad-jokes.p.rapidapi.com\"\n",
    "}\n",
    "\n",
    "response = requests.request(\"GET\", url, headers=headers, params=querystring)\n",
    "\n",
    "print(response.text)"
   ]
  },
  {
   "cell_type": "code",
   "execution_count": 17,
   "id": "0781cc16-864b-4555-a222-4afb0815803b",
   "metadata": {},
   "outputs": [
    {
     "data": {
      "text/plain": [
       "'{\"d\":[{\"i\":{\"height\":632,\"imageUrl\":\"https://m.media-amazon.com/images/M/MV5BMDc0ZGZmYzMtYTg3YS00MjNhLWI0MTItNTJiNDE5Njc5Y2ZkXkEyXkFqcGdeQXVyMTk2ODc0MjY@._V1_.jpg\",\"width\":426},\"id\":\"/best-of\",\"l\":\"Best of 2022\",\"s\":\"Discover this year’s fan-favorite movies, TV series, stars, and more.\"},{\"i\":{\"height\":1500,\"imageUrl\":\"https://m.media-amazon.com/images/M/MV5BYTRiNDQwYzAtMzVlZS00NTI5LWJjYjUtMzkwNTUzMWMxZTllXkEyXkFqcGdeQXVyNDIzMzcwNjc@._V1_.jpg\",\"width\":1102},\"id\":\"tt0944947\",\"l\":\"Game of Thrones\",\"q\":\"TV series\",\"qid\":\"tvSeries\",\"rank\":31,\"s\":\"Emilia Clarke, Peter Dinklage\",\"y\":2011,\"yr\":\"2011-2019\"},{\"i\":{\"height\":1200,\"imageUrl\":\"https://m.media-amazon.com/images/M/MV5BNTg1MjEyNWYtNzJkZi00ZTM5LThlNWMtMmNiNmE3N2QxNTllXkEyXkFqcGdeQXVyNTE1NjY5Mg@@._V1_.jpg\",\"width\":782},\"id\":\"tt13380510\",\"l\":\"Game of Thrones\",\"q\":\"video\",\"qid\":\"video\",\"rank\":14382,\"s\":\"Roy Dotrice\",\"y\":2003},{\"i\":{\"height\":750,\"imageUrl\":\"https://m.media-amazon.com/images/M/MV5BODg5NDJhMjYtMTYyYi00NzAwLTliNmYtNGZhMjQ4ZjNkMjgyXkEyXkFqcGdeQXVyNTA3MTU2MjE@._V1_.jpg\",\"width\":1334},\"id\":\"tt6857128\",\"l\":\"Unaired Game of Thrones Prequel Pilot\",\"q\":\"TV movie\",\"qid\":\"tvMovie\",\"rank\":15165,\"s\":\"Denise Gough, Naomi Watts\",\"y\":2019},{\"i\":{\"height\":1200,\"imageUrl\":\"https://m.media-amazon.com/images/M/MV5BZDdlMzQzNDQtNTAxMS00NTMyLTgxYTAtYzQ0OGI1YzZhY2Y3XkEyXkFqcGdeQXVyMTkxNjUyNQ@@._V1_.jpg\",\"width\":810},\"id\":\"tt10090796\",\"l\":\"Game of Thrones: The Last Watch\",\"q\":\"TV movie\",\"qid\":\"tvMovie\",\"rank\":26292,\"s\":\"Kevin Alexander, Alfie Allen\",\"y\":2019},{\"id\":\"tt21073266\",\"l\":\"Untitled Jon Snow/Game of Thrones Spinoff\",\"q\":\"TV series\",\"qid\":\"tvSeries\",\"rank\":16243,\"s\":\"\"},{\"i\":{\"height\":1500,\"imageUrl\":\"https://m.media-amazon.com/images/M/MV5BZjBiOGIyY2YtOTA3OC00YzY1LThkYjktMGRkYTNhNTExY2I2XkEyXkFqcGdeQXVyMTEyMjM2NDc2._V1_.jpg\",\"width\":1013},\"id\":\"tt11198330\",\"l\":\"House of the Dragon\",\"q\":\"TV series\",\"qid\":\"tvSeries\",\"rank\":42,\"s\":\"Rhys Ifans, Matt Smith\",\"y\":2022},{\"i\":{\"height\":840,\"imageUrl\":\"https://m.media-amazon.com/images/M/MV5BMGYzNDJiOTgtN2Y1OC00NmM2LTk3MTMtZmFhNmJlMzQzNGNhXkEyXkFqcGdeQXVyNDgyODgxNjE@._V1_.jpg\",\"width\":600},\"id\":\"tt7937220\",\"l\":\"Game of Thrones Conquest & Rebellion: An Animated History of the Seven Kingdoms\",\"q\":\"video\",\"qid\":\"video\",\"rank\":24154,\"s\":\"Pilou Asbæk, Nikolaj Coster-Waldau\",\"y\":2017}],\"q\":\"game%20of%20thr\",\"v\":1}'"
      ]
     },
     "execution_count": 17,
     "metadata": {},
     "output_type": "execute_result"
    }
   ],
   "source": [
    "test"
   ]
  },
  {
   "cell_type": "code",
   "execution_count": 19,
   "id": "9ee08e06-64da-4cfc-8ec7-11868ef1327c",
   "metadata": {},
   "outputs": [
    {
     "name": "stdout",
     "output_type": "stream",
     "text": [
      "{\"summary\": \"retired taxi driver. Retired taxi drivers have been driving for more than a decade. The driver is a former taxi driver who has been working in the U.S. for over a decade in the 1990s. He is now a retired taxi driver and has worked in the past for 30 years.\"}\n"
     ]
    }
   ],
   "source": [
    "import requests\n",
    "\n",
    "url = \"https://gpt-summarization.p.rapidapi.com/summarize\"\n",
    "\n",
    "payload = {\n",
    "\t\"text\": \"retired taxi driver\",\n",
    "\t\"num_sentences\": 3\n",
    "}\n",
    "headers = {\n",
    "\t\"content-type\": \"application/json\",\n",
    "\t\"X-RapidAPI-Key\": \"1688bcf98dmsh0dde3eda4f0374ap15d984jsnbb0c2deccb48\",\n",
    "\t\"X-RapidAPI-Host\": \"gpt-summarization.p.rapidapi.com\"\n",
    "}\n",
    "\n",
    "response = requests.request(\"POST\", url, json=payload, headers=headers)\n",
    "\n",
    "print(response.text)"
   ]
  },
  {
   "cell_type": "code",
   "execution_count": 24,
   "id": "a29e0ab1-c213-4a58-8ce1-5299822f88b0",
   "metadata": {},
   "outputs": [
    {
     "data": {
      "text/plain": [
       "'{\"summary\": \"retired taxi driver. Retired taxi drivers have been driving for more than a decade. The driver is a former taxi driver who has been working in the U.S. for over a decade in the 1990s. He is now a retired taxi driver and has worked in the past for 30 years.\"}'"
      ]
     },
     "execution_count": 24,
     "metadata": {},
     "output_type": "execute_result"
    }
   ],
   "source": [
    "response.text"
   ]
  },
  {
   "cell_type": "code",
   "execution_count": null,
   "id": "d1e64410-f380-4ec9-9131-fb96317fa2e0",
   "metadata": {},
   "outputs": [],
   "source": []
  }
 ],
 "metadata": {
  "kernelspec": {
   "display_name": "Python 3 (ipykernel)",
   "language": "python",
   "name": "python3"
  },
  "language_info": {
   "codemirror_mode": {
    "name": "ipython",
    "version": 3
   },
   "file_extension": ".py",
   "mimetype": "text/x-python",
   "name": "python",
   "nbconvert_exporter": "python",
   "pygments_lexer": "ipython3",
   "version": "3.10.6"
  }
 },
 "nbformat": 4,
 "nbformat_minor": 5
}
